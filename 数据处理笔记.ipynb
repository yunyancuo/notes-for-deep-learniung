{
 "cells": [
  {
   "cell_type": "code",
   "execution_count": 15,
   "id": "de558fa9",
   "metadata": {},
   "outputs": [],
   "source": [
    "import torch"
   ]
  },
  {
   "cell_type": "markdown",
   "id": "e415fade",
   "metadata": {},
   "source": [
    " 三维数组的拼接"
   ]
  },
  {
   "cell_type": "code",
   "execution_count": 24,
   "id": "84c85641",
   "metadata": {},
   "outputs": [
    {
     "data": {
      "text/plain": [
       "(tensor([[[ 0.,  1.,  2.,  3.,  2.,  1.,  4.,  3.,  1.,  1.,  1.,  1.],\n",
       "          [ 4.,  5.,  6.,  7.,  1.,  2.,  3.,  4.,  1.,  1.,  1.,  1.],\n",
       "          [ 8.,  9., 10., 11.,  4.,  3.,  2.,  1.,  1.,  1.,  1.,  1.]],\n",
       " \n",
       "         [[12., 13., 14., 15.,  2.,  1.,  4.,  3.,  1.,  1.,  1.,  1.],\n",
       "          [16., 17., 18., 19.,  1.,  2.,  3.,  4.,  1.,  1.,  1.,  1.],\n",
       "          [20., 21., 22., 23.,  4.,  3.,  2.,  1.,  1.,  1.,  1.,  1.]]]),\n",
       " tensor([[[ 0.,  1.,  2.,  3.],\n",
       "          [ 4.,  5.,  6.,  7.],\n",
       "          [ 8.,  9., 10., 11.],\n",
       "          [ 2.,  1.,  4.,  3.],\n",
       "          [ 1.,  2.,  3.,  4.],\n",
       "          [ 4.,  3.,  2.,  1.],\n",
       "          [ 1.,  1.,  1.,  1.],\n",
       "          [ 1.,  1.,  1.,  1.],\n",
       "          [ 1.,  1.,  1.,  1.]],\n",
       " \n",
       "         [[12., 13., 14., 15.],\n",
       "          [16., 17., 18., 19.],\n",
       "          [20., 21., 22., 23.],\n",
       "          [ 2.,  1.,  4.,  3.],\n",
       "          [ 1.,  2.,  3.,  4.],\n",
       "          [ 4.,  3.,  2.,  1.],\n",
       "          [ 1.,  1.,  1.,  1.],\n",
       "          [ 1.,  1.,  1.,  1.],\n",
       "          [ 1.,  1.,  1.,  1.]]]),\n",
       " tensor([[[ 0.,  1.,  2.,  3.],\n",
       "          [ 4.,  5.,  6.,  7.],\n",
       "          [ 8.,  9., 10., 11.]],\n",
       " \n",
       "         [[12., 13., 14., 15.],\n",
       "          [16., 17., 18., 19.],\n",
       "          [20., 21., 22., 23.]],\n",
       " \n",
       "         [[ 2.,  1.,  4.,  3.],\n",
       "          [ 1.,  2.,  3.,  4.],\n",
       "          [ 4.,  3.,  2.,  1.]],\n",
       " \n",
       "         [[ 2.,  1.,  4.,  3.],\n",
       "          [ 1.,  2.,  3.,  4.],\n",
       "          [ 4.,  3.,  2.,  1.]],\n",
       " \n",
       "         [[ 1.,  1.,  1.,  1.],\n",
       "          [ 1.,  1.,  1.,  1.],\n",
       "          [ 1.,  1.,  1.,  1.]],\n",
       " \n",
       "         [[ 1.,  1.,  1.,  1.],\n",
       "          [ 1.,  1.,  1.,  1.],\n",
       "          [ 1.,  1.,  1.,  1.]]]))"
      ]
     },
     "execution_count": 24,
     "metadata": {},
     "output_type": "execute_result"
    }
   ],
   "source": [
    "X = torch.arange(24, dtype=torch.float32).reshape((2,3,4))\n",
    "Y = torch.tensor([[[2.0, 1, 4, 3], [1, 2, 3, 4], [4, 3, 2, 1]],[[2.0, 1, 4, 3], [1, 2, 3, 4], [4, 3, 2, 1]]])\n",
    "Z= torch.ones(2,3,4)\n",
    "torch.cat((X, Y, Z), dim=2),torch.cat((X, Y, Z), dim=1),torch.cat((X, Y, Z), dim=0)"
   ]
  },
  {
   "cell_type": "markdown",
   "id": "4bb368fd",
   "metadata": {},
   "source": [
    "广播机制条件：\n",
    "tensor维度相等。\n",
    "tensor维度不等且其中一个维度为1。\n",
    "tensor维度不等且其中一个维度不存在。"
   ]
  },
  {
   "cell_type": "code",
   "execution_count": 38,
   "id": "4789060f",
   "metadata": {},
   "outputs": [
    {
     "data": {
      "text/plain": [
       "tensor([[0, 1],\n",
       "        [1, 2],\n",
       "        [2, 3]])"
      ]
     },
     "execution_count": 38,
     "metadata": {},
     "output_type": "execute_result"
    }
   ],
   "source": [
    "a = torch.arange(3).reshape((3, 1))\n",
    "b = torch.arange(2).reshape((1,2))\n",
    "a,b\n",
    "a+b"
   ]
  },
  {
   "cell_type": "markdown",
   "id": "be18a295",
   "metadata": {},
   "source": [
    "处理订书名单人工数据集"
   ]
  },
  {
   "cell_type": "code",
   "execution_count": 5,
   "id": "221866e3",
   "metadata": {},
   "outputs": [
    {
     "name": "stdout",
     "output_type": "stream",
     "text": [
      "       Name  Booknum  Price\n",
      "0       NaN     1111  11.11\n",
      "1  Zhangsan     2222  12.12\n",
      "2      Lisi     3333    NaN\n",
      "3   Tianliu     4444  60.00\n"
     ]
    }
   ],
   "source": [
    "import os\n",
    "os.makedirs(os.path.join('..', 'data'), exist_ok=True)\n",
    "data_file = os.path.join('..', 'data', 'Booking List.csv')\n",
    "with open(data_file, 'w') as f:\n",
    "    f.write('Name,Booknum,Price\\n')  # 列名\n",
    "    f.write('NA,1111,11.11\\n')  # 每行表示一个数据样本\n",
    "    f.write('Zhangsan,2222,12.12\\n')\n",
    "    f.write('Lisi,3333,NA\\n')\n",
    "    f.write('Tianliu,4444,60.00\\n')\n",
    "import pandas as pd\n",
    "\n",
    "data = pd.read_csv(data_file)\n",
    "print(data)"
   ]
  },
  {
   "cell_type": "markdown",
   "id": "45bf6eb0",
   "metadata": {},
   "source": [
    "插值法插入姓名"
   ]
  },
  {
   "cell_type": "code",
   "execution_count": 6,
   "id": "ac541fe0",
   "metadata": {},
   "outputs": [
    {
     "name": "stdout",
     "output_type": "stream",
     "text": [
      "       Name  Booknum  Price\n",
      "0    Wangwu     1111  11.11\n",
      "1  Zhangsan     2222  12.12\n",
      "2      Lisi     3333    NaN\n",
      "3   Tianliu     4444  60.00\n"
     ]
    }
   ],
   "source": [
    "data['Name'].fillna(\"Wangwu\",inplace=True)\n",
    "print(data)"
   ]
  },
  {
   "cell_type": "markdown",
   "id": "040ddcea",
   "metadata": {},
   "source": [
    "用均值替代金额"
   ]
  },
  {
   "cell_type": "code",
   "execution_count": 7,
   "id": "2ffa7a96",
   "metadata": {},
   "outputs": [
    {
     "data": {
      "text/html": [
       "<div>\n",
       "<style scoped>\n",
       "    .dataframe tbody tr th:only-of-type {\n",
       "        vertical-align: middle;\n",
       "    }\n",
       "\n",
       "    .dataframe tbody tr th {\n",
       "        vertical-align: top;\n",
       "    }\n",
       "\n",
       "    .dataframe thead th {\n",
       "        text-align: right;\n",
       "    }\n",
       "</style>\n",
       "<table border=\"1\" class=\"dataframe\">\n",
       "  <thead>\n",
       "    <tr style=\"text-align: right;\">\n",
       "      <th></th>\n",
       "      <th>Name</th>\n",
       "      <th>Booknum</th>\n",
       "      <th>Price</th>\n",
       "    </tr>\n",
       "  </thead>\n",
       "  <tbody>\n",
       "    <tr>\n",
       "      <th>0</th>\n",
       "      <td>Wangwu</td>\n",
       "      <td>1111</td>\n",
       "      <td>11.110000</td>\n",
       "    </tr>\n",
       "    <tr>\n",
       "      <th>1</th>\n",
       "      <td>Zhangsan</td>\n",
       "      <td>2222</td>\n",
       "      <td>12.120000</td>\n",
       "    </tr>\n",
       "    <tr>\n",
       "      <th>2</th>\n",
       "      <td>Lisi</td>\n",
       "      <td>3333</td>\n",
       "      <td>27.743333</td>\n",
       "    </tr>\n",
       "    <tr>\n",
       "      <th>3</th>\n",
       "      <td>Tianliu</td>\n",
       "      <td>4444</td>\n",
       "      <td>60.000000</td>\n",
       "    </tr>\n",
       "  </tbody>\n",
       "</table>\n",
       "</div>"
      ],
      "text/plain": [
       "       Name  Booknum      Price\n",
       "0    Wangwu     1111  11.110000\n",
       "1  Zhangsan     2222  12.120000\n",
       "2      Lisi     3333  27.743333\n",
       "3   Tianliu     4444  60.000000"
      ]
     },
     "execution_count": 7,
     "metadata": {},
     "output_type": "execute_result"
    }
   ],
   "source": [
    "data['Price'].fillna(data['Price'].mean(),inplace=True)\n",
    "data"
   ]
  },
  {
   "cell_type": "markdown",
   "id": "2e6ab8e9",
   "metadata": {},
   "source": [
    "删除第一列"
   ]
  },
  {
   "cell_type": "code",
   "execution_count": 8,
   "id": "378e28e2",
   "metadata": {},
   "outputs": [
    {
     "data": {
      "text/html": [
       "<div>\n",
       "<style scoped>\n",
       "    .dataframe tbody tr th:only-of-type {\n",
       "        vertical-align: middle;\n",
       "    }\n",
       "\n",
       "    .dataframe tbody tr th {\n",
       "        vertical-align: top;\n",
       "    }\n",
       "\n",
       "    .dataframe thead th {\n",
       "        text-align: right;\n",
       "    }\n",
       "</style>\n",
       "<table border=\"1\" class=\"dataframe\">\n",
       "  <thead>\n",
       "    <tr style=\"text-align: right;\">\n",
       "      <th></th>\n",
       "      <th>Booknum</th>\n",
       "      <th>Price</th>\n",
       "    </tr>\n",
       "  </thead>\n",
       "  <tbody>\n",
       "    <tr>\n",
       "      <th>0</th>\n",
       "      <td>1111</td>\n",
       "      <td>11.110000</td>\n",
       "    </tr>\n",
       "    <tr>\n",
       "      <th>1</th>\n",
       "      <td>2222</td>\n",
       "      <td>12.120000</td>\n",
       "    </tr>\n",
       "    <tr>\n",
       "      <th>2</th>\n",
       "      <td>3333</td>\n",
       "      <td>27.743333</td>\n",
       "    </tr>\n",
       "    <tr>\n",
       "      <th>3</th>\n",
       "      <td>4444</td>\n",
       "      <td>60.000000</td>\n",
       "    </tr>\n",
       "  </tbody>\n",
       "</table>\n",
       "</div>"
      ],
      "text/plain": [
       "   Booknum      Price\n",
       "0     1111  11.110000\n",
       "1     2222  12.120000\n",
       "2     3333  27.743333\n",
       "3     4444  60.000000"
      ]
     },
     "execution_count": 8,
     "metadata": {},
     "output_type": "execute_result"
    }
   ],
   "source": [
    "data.drop('Name',axis=1,inplace=True)\n",
    "data"
   ]
  },
  {
   "cell_type": "code",
   "execution_count": 17,
   "id": "dc55c6d4",
   "metadata": {},
   "outputs": [
    {
     "data": {
      "text/plain": [
       "(tensor([1111, 2222, 3333, 4444]),\n",
       " tensor([11.1100, 12.1200, 27.7433, 60.0000], dtype=torch.float64))"
      ]
     },
     "execution_count": 17,
     "metadata": {},
     "output_type": "execute_result"
    }
   ],
   "source": [
    "booknum,price=data.iloc[:,0],data.iloc[:,1]\n",
    "x,y=torch.tensor(booknum.values),torch.tensor(price.values)\n",
    "x,y"
   ]
  }
 ],
 "metadata": {
  "kernelspec": {
   "display_name": "Python 3 (ipykernel)",
   "language": "python",
   "name": "python3"
  },
  "language_info": {
   "codemirror_mode": {
    "name": "ipython",
    "version": 3
   },
   "file_extension": ".py",
   "mimetype": "text/x-python",
   "name": "python",
   "nbconvert_exporter": "python",
   "pygments_lexer": "ipython3",
   "version": "3.10.9"
  }
 },
 "nbformat": 4,
 "nbformat_minor": 5
}
