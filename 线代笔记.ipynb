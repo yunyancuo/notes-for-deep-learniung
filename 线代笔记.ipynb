{
 "cells": [
  {
   "cell_type": "markdown",
   "id": "d81f5568",
   "metadata": {},
   "source": [
    "# 尝试部分"
   ]
  },
  {
   "cell_type": "code",
   "execution_count": 1,
   "id": "0c25f9cd",
   "metadata": {},
   "outputs": [],
   "source": [
    "import torch"
   ]
  },
  {
   "cell_type": "markdown",
   "id": "c3a51876",
   "metadata": {},
   "source": [
    "生成一个较例子更大的6*5的矩阵"
   ]
  },
  {
   "cell_type": "code",
   "execution_count": 44,
   "id": "b0a585fa",
   "metadata": {},
   "outputs": [
    {
     "data": {
      "text/plain": [
       "tensor([[ 0.,  1.,  2.,  3.,  4.],\n",
       "        [ 5.,  6.,  7.,  8.,  9.],\n",
       "        [10., 11., 12., 13., 14.],\n",
       "        [15., 16., 17., 18., 19.],\n",
       "        [20., 21., 22., 23., 24.],\n",
       "        [25., 26., 27., 28., 29.]])"
      ]
     },
     "execution_count": 44,
     "metadata": {},
     "output_type": "execute_result"
    }
   ],
   "source": [
    "A = torch.arange(30,dtype=torch.float32).reshape(6,5 )\n",
    "A"
   ]
  },
  {
   "cell_type": "markdown",
   "id": "a59db3bf",
   "metadata": {},
   "source": [
    "生成一个B，随机为1到10的整数"
   ]
  },
  {
   "cell_type": "code",
   "execution_count": 45,
   "id": "1184d301",
   "metadata": {},
   "outputs": [
    {
     "data": {
      "text/plain": [
       "tensor([[ 1.,  6.,  2.,  9.,  1.],\n",
       "        [ 5., 10.,  3., 10.,  6.],\n",
       "        [ 5., 10., 10.,  3.,  1.],\n",
       "        [ 7.,  9.,  8.,  1.,  8.],\n",
       "        [ 2.,  3.,  7.,  2., 10.],\n",
       "        [10.,  3.,  6., 10.,  4.]])"
      ]
     },
     "execution_count": 45,
     "metadata": {},
     "output_type": "execute_result"
    }
   ],
   "source": [
    "B= torch.randint(1, 11, dtype=torch.float32,size=(6, 5))\n",
    "B"
   ]
  },
  {
   "cell_type": "markdown",
   "id": "c0ace6c2",
   "metadata": {},
   "source": [
    "基本运算"
   ]
  },
  {
   "cell_type": "code",
   "execution_count": 10,
   "id": "f7e5584d",
   "metadata": {},
   "outputs": [
    {
     "data": {
      "text/plain": [
       "(tensor([[  0.,   2.,  14.,  27.,  12.],\n",
       "         [ 45.,  48.,  56.,  72.,  90.],\n",
       "         [ 20., 110.,  48.,  78.,  42.],\n",
       "         [105.,  32., 153., 126.,  19.],\n",
       "         [140., 168., 176., 138.,  72.],\n",
       "         [250., 130., 216., 224.,  58.]]),\n",
       " tensor([[ 2.,  3.,  4.,  5.,  6.],\n",
       "         [ 7.,  8.,  9., 10., 11.],\n",
       "         [12., 13., 14., 15., 16.],\n",
       "         [17., 18., 19., 20., 21.],\n",
       "         [22., 23., 24., 25., 26.],\n",
       "         [27., 28., 29., 30., 31.]]),\n",
       " tensor([[ 0.,  2.,  4.,  6.,  8.],\n",
       "         [10., 12., 14., 16., 18.],\n",
       "         [20., 22., 24., 26., 28.],\n",
       "         [30., 32., 34., 36., 38.],\n",
       "         [40., 42., 44., 46., 48.],\n",
       "         [50., 52., 54., 56., 58.]]))"
      ]
     },
     "execution_count": 10,
     "metadata": {},
     "output_type": "execute_result"
    }
   ],
   "source": [
    "A*B,2+A,2*A"
   ]
  },
  {
   "cell_type": "markdown",
   "id": "7deff126",
   "metadata": {},
   "source": [
    "降维"
   ]
  },
  {
   "cell_type": "code",
   "execution_count": 31,
   "id": "330d9c80",
   "metadata": {},
   "outputs": [
    {
     "data": {
      "text/plain": [
       "(tensor(188),\n",
       " tensor([42, 35, 44, 45, 22]),\n",
       " torch.Size([5]),\n",
       " tensor([28, 44, 25, 26, 32, 33]),\n",
       " torch.Size([6]),\n",
       " tensor(19.5000))"
      ]
     },
     "execution_count": 31,
     "metadata": {},
     "output_type": "execute_result"
    }
   ],
   "source": [
    "B_sum_axis0 = B.sum(axis=0)\n",
    "B_sum_axis1 = B.sum(axis=1)\n",
    "B.sum(),B_sum_axis0, B_sum_axis0.shape,B_sum_axis1, B_sum_axis1.shape,A.mean()"
   ]
  },
  {
   "cell_type": "markdown",
   "id": "193f0a3f",
   "metadata": {},
   "source": [
    "点积"
   ]
  },
  {
   "cell_type": "code",
   "execution_count": 46,
   "id": "369b0361",
   "metadata": {},
   "outputs": [
    {
     "data": {
      "text/plain": [
       "tensor([[300., 319., 338., 357., 376.],\n",
       "        [520., 554., 588., 622., 656.],\n",
       "        [360., 389., 418., 447., 476.],\n",
       "        [465., 498., 531., 564., 597.],\n",
       "        [435., 459., 483., 507., 531.],\n",
       "        [470., 503., 536., 569., 602.]])"
      ]
     },
     "execution_count": 46,
     "metadata": {},
     "output_type": "execute_result"
    }
   ],
   "source": [
    "A=A[1:,:]\n",
    "torch.mm(B, A)"
   ]
  },
  {
   "cell_type": "code",
   "execution_count": 48,
   "id": "9c9e39d3",
   "metadata": {},
   "outputs": [
    {
     "data": {
      "text/plain": [
       "tensor(36.2491)"
      ]
     },
     "execution_count": 48,
     "metadata": {},
     "output_type": "execute_result"
    }
   ],
   "source": [
    "torch.norm(B)"
   ]
  },
  {
   "cell_type": "markdown",
   "id": "75fdafb5",
   "metadata": {},
   "source": [
    "# 习题部分"
   ]
  },
  {
   "cell_type": "markdown",
   "id": "565a3ec6",
   "metadata": {},
   "source": [
    "1.证明一个矩阵 𝐀\n",
    " 的转置的转置是 𝐀\n",
    " ，即 (𝐀⊤)⊤=𝐀\n",
    " 。"
   ]
  },
  {
   "cell_type": "code",
   "execution_count": 50,
   "id": "e50891df",
   "metadata": {},
   "outputs": [
    {
     "data": {
      "text/plain": [
       "tensor([[True, True, True, True, True],\n",
       "        [True, True, True, True, True],\n",
       "        [True, True, True, True, True],\n",
       "        [True, True, True, True, True],\n",
       "        [True, True, True, True, True]])"
      ]
     },
     "execution_count": 50,
     "metadata": {},
     "output_type": "execute_result"
    }
   ],
   "source": [
    "A.T.T == A"
   ]
  },
  {
   "cell_type": "markdown",
   "id": "a41bbc85",
   "metadata": {},
   "source": [
    "\n",
    "2.给出两个矩阵 𝐀\n",
    " 和 𝐁\n",
    " ，证明“它们转置的和”等于“它们和的转置”，即 𝐀⊤+𝐁⊤=(𝐀+𝐁)⊤\n",
    " 。"
   ]
  },
  {
   "cell_type": "code",
   "execution_count": 54,
   "id": "2c93d6d0",
   "metadata": {},
   "outputs": [
    {
     "data": {
      "text/plain": [
       "tensor([[True, True, True, True, True, True],\n",
       "        [True, True, True, True, True, True],\n",
       "        [True, True, True, True, True, True],\n",
       "        [True, True, True, True, True, True],\n",
       "        [True, True, True, True, True, True]])"
      ]
     },
     "execution_count": 54,
     "metadata": {},
     "output_type": "execute_result"
    }
   ],
   "source": [
    "A= torch.randint(1, 11, dtype=torch.float32,size=(6, 5))\n",
    "B= torch.randint(1, 11, dtype=torch.float32,size=(6, 5))\n",
    "A.T+B.T == (A+B).T"
   ]
  },
  {
   "cell_type": "markdown",
   "id": "ee858101",
   "metadata": {},
   "source": [
    "3.给定任意方阵 𝐀\n",
    " ， 𝐀+𝐀⊤\n",
    " 总是对称的吗?为什么?"
   ]
  },
  {
   "cell_type": "code",
   "execution_count": 58,
   "id": "8a57bfe0",
   "metadata": {},
   "outputs": [
    {
     "data": {
      "text/plain": [
       "(tensor([[16., 10., 11., 11.,  7.],\n",
       "         [10., 10., 19., 14.,  6.],\n",
       "         [11., 19.,  2.,  8., 14.],\n",
       "         [11., 14.,  8.,  4., 16.],\n",
       "         [ 7.,  6., 14., 16.,  4.]]),\n",
       " tensor([[True, True, True, True, True],\n",
       "         [True, True, True, True, True],\n",
       "         [True, True, True, True, True],\n",
       "         [True, True, True, True, True],\n",
       "         [True, True, True, True, True]]))"
      ]
     },
     "execution_count": 58,
     "metadata": {},
     "output_type": "execute_result"
    }
   ],
   "source": [
    "A= torch.randint(1, 11, dtype=torch.float32,size=(5, 5))\n",
    "A+A.T,A+A.T == (A+A.T).T"
   ]
  },
  {
   "cell_type": "markdown",
   "id": "2d5d1100",
   "metadata": {},
   "source": [
    "总是对称的，因为(A+A.T).T=A.T+A"
   ]
  },
  {
   "cell_type": "markdown",
   "id": "b4aa6173",
   "metadata": {},
   "source": [
    "4.对于任意形状的张量X,len(X)是否总是对应于X特定轴的长度?这个轴是什么?"
   ]
  },
  {
   "cell_type": "code",
   "execution_count": 62,
   "id": "32fe0838",
   "metadata": {},
   "outputs": [
    {
     "data": {
      "text/plain": [
       "2"
      ]
     },
     "execution_count": 62,
     "metadata": {},
     "output_type": "execute_result"
    }
   ],
   "source": [
    "X= torch.randint(1, 11, dtype=torch.float32,size=(2,3,4))\n",
    "len(X)"
   ]
  },
  {
   "cell_type": "markdown",
   "id": "7bfc58c4",
   "metadata": {},
   "source": [
    "5.运行A/A.sum(axis=1)，看看会发生什么。请分析一下原因？"
   ]
  },
  {
   "cell_type": "code",
   "execution_count": 65,
   "id": "d0341702",
   "metadata": {},
   "outputs": [
    {
     "data": {
      "text/plain": [
       "(tensor([[ 8.,  6.,  7., 10., 10.],\n",
       "         [ 5.,  2.,  6.,  7.,  6.],\n",
       "         [ 1.,  7.,  8., 10.,  5.],\n",
       "         [ 7.,  3.,  7.,  5.,  7.],\n",
       "         [ 8.,  6.,  3.,  4.,  5.]]),\n",
       " tensor([[0.1951, 0.2308, 0.2258, 0.3448, 0.3846],\n",
       "         [0.1220, 0.0769, 0.1935, 0.2414, 0.2308],\n",
       "         [0.0244, 0.2692, 0.2581, 0.3448, 0.1923],\n",
       "         [0.1707, 0.1154, 0.2258, 0.1724, 0.2692],\n",
       "         [0.1951, 0.2308, 0.0968, 0.1379, 0.1923]]))"
      ]
     },
     "execution_count": 65,
     "metadata": {},
     "output_type": "execute_result"
    }
   ],
   "source": [
    "A= torch.randint(1, 11, dtype=torch.float32,size=(5, 5))\n",
    "A,A/A.sum(axis=1)"
   ]
  },
  {
   "cell_type": "markdown",
   "id": "6fddfb7a",
   "metadata": {},
   "source": [
    "产生一个仍是原大小的矩阵，因为广播，复制原来一列五行为五列五行进行除法"
   ]
  },
  {
   "cell_type": "markdown",
   "id": "9184c887",
   "metadata": {},
   "source": [
    "6.考虑一个具有形状 (2,3,4)\n",
    " 的张量，在轴0、1、2上的求和输出是什么形状?"
   ]
  },
  {
   "cell_type": "code",
   "execution_count": 66,
   "id": "02bc5a22",
   "metadata": {},
   "outputs": [
    {
     "name": "stdout",
     "output_type": "stream",
     "text": [
      "原始张量：\n",
      "tensor([[[ 0,  1,  2,  3],\n",
      "         [ 4,  5,  6,  7],\n",
      "         [ 8,  9, 10, 11]],\n",
      "\n",
      "        [[12, 13, 14, 15],\n",
      "         [16, 17, 18, 19],\n",
      "         [20, 21, 22, 23]]])\n",
      "在轴0上求和：\n",
      "tensor([[12, 14, 16, 18],\n",
      "        [20, 22, 24, 26],\n",
      "        [28, 30, 32, 34]])\n",
      "形状： torch.Size([3, 4])\n",
      "在轴1上求和：\n",
      "tensor([[12, 15, 18, 21],\n",
      "        [48, 51, 54, 57]])\n",
      "形状： torch.Size([2, 4])\n",
      "在轴2上求和：\n",
      "tensor([[ 6, 22, 38],\n",
      "        [54, 70, 86]])\n",
      "形状： torch.Size([2, 3])\n",
      "在轴0、1、2上同时求和：\n",
      "tensor(276)\n"
     ]
    }
   ],
   "source": [
    "A = torch.arange(24).reshape(2, 3, 4)\n",
    "print(\"原始张量：\")\n",
    "print(A)\n",
    "\n",
    "sum0 = A.sum(dim=0)\n",
    "print(\"在轴0上求和：\")\n",
    "print(sum0)\n",
    "print(\"形状：\", sum0.shape)\n",
    "\n",
    "sum1 = A.sum(dim=1)\n",
    "print(\"在轴1上求和：\")\n",
    "print(sum1)\n",
    "print(\"形状：\", sum1.shape)\n",
    "\n",
    "sum2 = A.sum(dim=2)\n",
    "print(\"在轴2上求和：\")\n",
    "print(sum2)\n",
    "print(\"形状：\", sum2.shape)\n",
    "\n",
    "sum_all = A.sum(dim=(0, 1, 2))\n",
    "print(\"在轴0、1、2上同时求和：\")\n",
    "print(sum_all)"
   ]
  },
  {
   "cell_type": "markdown",
   "id": "40b5d8ad",
   "metadata": {},
   "source": [
    "7.为linalg.norm函数提供3个或更多轴的张量，并观察其输出。对于任意形状的张量这个函数计算得到什么?"
   ]
  },
  {
   "cell_type": "code",
   "execution_count": 69,
   "id": "f1db581f",
   "metadata": {},
   "outputs": [
    {
     "name": "stdout",
     "output_type": "stream",
     "text": [
      "原始张量：\n",
      "tensor([[[ 0.,  1.,  2.,  3.],\n",
      "         [ 4.,  5.,  6.,  7.],\n",
      "         [ 8.,  9., 10., 11.]],\n",
      "\n",
      "        [[12., 13., 14., 15.],\n",
      "         [16., 17., 18., 19.],\n",
      "         [20., 21., 22., 23.]]])\n",
      "Frobenius范数：\n",
      "tensor(65.7571)\n"
     ]
    }
   ],
   "source": [
    "A = torch.arange(24,dtype=torch.float32).reshape(2, 3, 4)\n",
    "print(\"原始张量：\")\n",
    "print(A)\n",
    "\n",
    "norm = torch.linalg.norm(A)\n",
    "print(\"Frobenius范数：\")\n",
    "print(norm)"
   ]
  },
  {
   "cell_type": "markdown",
   "id": "c9f06019",
   "metadata": {},
   "source": [
    "计算这个张量的范数"
   ]
  }
 ],
 "metadata": {
  "kernelspec": {
   "display_name": "Python 3 (ipykernel)",
   "language": "python",
   "name": "python3"
  },
  "language_info": {
   "codemirror_mode": {
    "name": "ipython",
    "version": 3
   },
   "file_extension": ".py",
   "mimetype": "text/x-python",
   "name": "python",
   "nbconvert_exporter": "python",
   "pygments_lexer": "ipython3",
   "version": "3.10.9"
  }
 },
 "nbformat": 4,
 "nbformat_minor": 5
}
