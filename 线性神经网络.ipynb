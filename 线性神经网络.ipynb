{
 "cells": [
  {
   "cell_type": "markdown",
   "id": "88a7fc87",
   "metadata": {},
   "source": [
    "1.假设我们有一些数据 𝑥1,…,𝑥𝑛∈ℝ\n",
    " 。我们的目标是找到一个常数 𝑏\n",
    " ，使得最小化 ∑𝑖(𝑥𝑖−𝑏)2\n",
    " 。\n",
    " A:找到最优值 𝑏\n",
    " 的解析解。\n",
    "B:这个问题及其解与正态分布有什么关系?"
   ]
  },
  {
   "cell_type": "markdown",
   "id": "b9600fd1",
   "metadata": {},
   "source": [
    "A:通过求b的偏导数，解得最优解是所有数据的平均数"
   ]
  },
  {
   "cell_type": "markdown",
   "id": "0a30023a",
   "metadata": {
    "slideshow": {
     "slide_type": "subslide"
    }
   },
   "source": [
    "B:最优解的解析解是这个正态分布的均值"
   ]
  },
  {
   "cell_type": "markdown",
   "id": "3199a289",
   "metadata": {},
   "source": [
    "2.推导出使用平方误差的线性回归优化问题的解析解。为了简化问题，可以忽略偏置 𝑏\n",
    " （我们可以通过向 𝐗\n",
    " 添加所有值为1的一列来做到这一点）。\n",
    "A:用矩阵和向量表示法写出优化问题（将所有数据视为单个矩阵，将所有目标值视为单个向量）。\n",
    "B:计算损失对 𝑤\n",
    " 的梯度。\n",
    "C:通过将梯度设为0、求解矩阵方程来找到解析解。\n",
    "D:什么时候可能比使用随机梯度下降更好？这种方法何时会失效？"
   ]
  },
  {
   "cell_type": "markdown",
   "id": "d258c852",
   "metadata": {},
   "source": [
    "忽略偏置b后，平方误差的线性回归优化问题即为l（w）=1/2（yi真-yi预测）^2，目标是最小化损失函数均值，则可对w求导求极值点，则w=对yi/xi求和\n",
    "A:X^TXb = X^TyB： dL/dw = (-2/n) * X^T(y - Xw)，D：如此运算会减小运算难度，但在高阶方程或过于复杂函数很难求得解析解，该方法会失效"
   ]
  },
  {
   "cell_type": "markdown",
   "id": "fe82e252",
   "metadata": {},
   "source": [
    "3.假定控制附加噪声 𝜖\n",
    " 的噪声模型是指数分布。也就是说， 𝑝(𝜖)=12exp(−|𝜖|)\n",
    "写出模型 −log𝑃(𝐲∣𝐗)\n",
    " 下数据的负对数似然。\n",
    "请试着写出解析解。\n",
    "提出一种随机梯度下降算法来解决这个问题。哪里可能出错？（提示：当我们不断更新参数时，在驻点附近会发生什么情况）请尝试解决这个问题"
   ]
  },
  {
   "cell_type": "markdown",
   "id": "aedf694e",
   "metadata": {},
   "source": [
    "A：NLL=-sum丨y实-y测丨+nlog2，B:绝对值符号不可导，求不出解析解 C:随机选择一个数据点 (x,y)。\n",
    "计算损失函数关于参数 w 和 b 的梯度。\n",
    "使用学习率乘以梯度来更新参数 w 和 b 的值\n",
    "但是0处不可导，会产生驻点震荡"
   ]
  }
 ],
 "metadata": {
  "kernelspec": {
   "display_name": "Python 3 (ipykernel)",
   "language": "python",
   "name": "python3"
  },
  "language_info": {
   "codemirror_mode": {
    "name": "ipython",
    "version": 3
   },
   "file_extension": ".py",
   "mimetype": "text/x-python",
   "name": "python",
   "nbconvert_exporter": "python",
   "pygments_lexer": "ipython3",
   "version": "3.10.9"
  }
 },
 "nbformat": 4,
 "nbformat_minor": 5
}
