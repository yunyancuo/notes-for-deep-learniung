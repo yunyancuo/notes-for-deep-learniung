{
 "cells": [
  {
   "cell_type": "code",
   "execution_count": 7,
   "id": "de558fa9",
   "metadata": {},
   "outputs": [],
   "source": [
    "import torch"
   ]
  },
  {
   "cell_type": "markdown",
   "id": "e415fade",
   "metadata": {},
   "source": [
    " 三维数组的拼接"
   ]
  },
  {
   "cell_type": "code",
   "execution_count": 24,
   "id": "84c85641",
   "metadata": {},
   "outputs": [
    {
     "data": {
      "text/plain": [
       "(tensor([[[ 0.,  1.,  2.,  3.,  2.,  1.,  4.,  3.,  1.,  1.,  1.,  1.],\n",
       "          [ 4.,  5.,  6.,  7.,  1.,  2.,  3.,  4.,  1.,  1.,  1.,  1.],\n",
       "          [ 8.,  9., 10., 11.,  4.,  3.,  2.,  1.,  1.,  1.,  1.,  1.]],\n",
       " \n",
       "         [[12., 13., 14., 15.,  2.,  1.,  4.,  3.,  1.,  1.,  1.,  1.],\n",
       "          [16., 17., 18., 19.,  1.,  2.,  3.,  4.,  1.,  1.,  1.,  1.],\n",
       "          [20., 21., 22., 23.,  4.,  3.,  2.,  1.,  1.,  1.,  1.,  1.]]]),\n",
       " tensor([[[ 0.,  1.,  2.,  3.],\n",
       "          [ 4.,  5.,  6.,  7.],\n",
       "          [ 8.,  9., 10., 11.],\n",
       "          [ 2.,  1.,  4.,  3.],\n",
       "          [ 1.,  2.,  3.,  4.],\n",
       "          [ 4.,  3.,  2.,  1.],\n",
       "          [ 1.,  1.,  1.,  1.],\n",
       "          [ 1.,  1.,  1.,  1.],\n",
       "          [ 1.,  1.,  1.,  1.]],\n",
       " \n",
       "         [[12., 13., 14., 15.],\n",
       "          [16., 17., 18., 19.],\n",
       "          [20., 21., 22., 23.],\n",
       "          [ 2.,  1.,  4.,  3.],\n",
       "          [ 1.,  2.,  3.,  4.],\n",
       "          [ 4.,  3.,  2.,  1.],\n",
       "          [ 1.,  1.,  1.,  1.],\n",
       "          [ 1.,  1.,  1.,  1.],\n",
       "          [ 1.,  1.,  1.,  1.]]]),\n",
       " tensor([[[ 0.,  1.,  2.,  3.],\n",
       "          [ 4.,  5.,  6.,  7.],\n",
       "          [ 8.,  9., 10., 11.]],\n",
       " \n",
       "         [[12., 13., 14., 15.],\n",
       "          [16., 17., 18., 19.],\n",
       "          [20., 21., 22., 23.]],\n",
       " \n",
       "         [[ 2.,  1.,  4.,  3.],\n",
       "          [ 1.,  2.,  3.,  4.],\n",
       "          [ 4.,  3.,  2.,  1.]],\n",
       " \n",
       "         [[ 2.,  1.,  4.,  3.],\n",
       "          [ 1.,  2.,  3.,  4.],\n",
       "          [ 4.,  3.,  2.,  1.]],\n",
       " \n",
       "         [[ 1.,  1.,  1.,  1.],\n",
       "          [ 1.,  1.,  1.,  1.],\n",
       "          [ 1.,  1.,  1.,  1.]],\n",
       " \n",
       "         [[ 1.,  1.,  1.,  1.],\n",
       "          [ 1.,  1.,  1.,  1.],\n",
       "          [ 1.,  1.,  1.,  1.]]]))"
      ]
     },
     "execution_count": 24,
     "metadata": {},
     "output_type": "execute_result"
    }
   ],
   "source": [
    "X = torch.arange(24, dtype=torch.float32).reshape((2,3,4))\n",
    "Y = torch.tensor([[[2.0, 1, 4, 3], [1, 2, 3, 4], [4, 3, 2, 1]],[[2.0, 1, 4, 3], [1, 2, 3, 4], [4, 3, 2, 1]]])\n",
    "Z= torch.ones(2,3,4)\n",
    "torch.cat((X, Y, Z), dim=2),torch.cat((X, Y, Z), dim=1),torch.cat((X, Y, Z), dim=0)"
   ]
  },
  {
   "cell_type": "markdown",
   "id": "4bb368fd",
   "metadata": {},
   "source": [
    "广播机制条件：\n",
    "tensor维度相等。\n",
    "tensor维度不等且其中一个维度为1。\n",
    "tensor维度不等且其中一个维度不存在。"
   ]
  },
  {
   "cell_type": "code",
   "execution_count": 38,
   "id": "4789060f",
   "metadata": {},
   "outputs": [
    {
     "data": {
      "text/plain": [
       "tensor([[0, 1],\n",
       "        [1, 2],\n",
       "        [2, 3]])"
      ]
     },
     "execution_count": 38,
     "metadata": {},
     "output_type": "execute_result"
    }
   ],
   "source": [
    "a = torch.arange(3).reshape((3, 1))\n",
    "b = torch.arange(2).reshape((1,2))\n",
    "a,b\n",
    "a+b"
   ]
  },
  {
   "cell_type": "markdown",
   "id": "be18a295",
   "metadata": {},
   "source": [
    "处理订书名单人工数据集"
   ]
  },
  {
   "cell_type": "code",
   "execution_count": 43,
   "id": "221866e3",
   "metadata": {},
   "outputs": [
    {
     "name": "stdout",
     "output_type": "stream",
     "text": [
      "       Name  Booknum  Price\n",
      "0       NaN   1111.0  11.11\n",
      "1  Zhangsan      NaN  12.12\n",
      "2      Lisi      NaN  45.50\n",
      "3       NaN      NaN  60.00\n"
     ]
    }
   ],
   "source": [
    "import os\n",
    "os.makedirs(os.path.join('..', 'data'), exist_ok=True)\n",
    "data_file = os.path.join('..', 'data', 'Booking List.csv')\n",
    "with open(data_file, 'w') as f:\n",
    "    f.write('Name,Booknum,Price\\n')  # 列名\n",
    "    f.write('NA,1111,11.11\\n')  # 每行表示一个数据样本\n",
    "    f.write('Zhangsan,NA,12.12\\n')\n",
    "    f.write('Lisi,NA,45.50\\n')\n",
    "    f.write('NA,NA,60.00\\n')\n",
    "import pandas as pd\n",
    "\n",
    "data = pd.read_csv(data_file)\n",
    "print(data)"
   ]
  },
  {
   "cell_type": "code",
   "execution_count": 61,
   "id": "ac541fe0",
   "metadata": {},
   "outputs": [
    {
     "name": "stdout",
     "output_type": "stream",
     "text": [
      "       Name  Booknum  Price\n",
      "0       NaN   1111.0  11.11\n",
      "1  Zhangsan      NaN  12.12\n",
      "2      Lisi      NaN  45.50\n",
      "3       NaN      NaN  60.00\n"
     ]
    }
   ],
   "source": [
    "newlist = data.fillna(value={0:\"Wangwu\",3:\"Tianliu\"},axis=0)\n",
    "print(newlist)"
   ]
  }
 ],
 "metadata": {
  "kernelspec": {
   "display_name": "Python 3 (ipykernel)",
   "language": "python",
   "name": "python3"
  },
  "language_info": {
   "codemirror_mode": {
    "name": "ipython",
    "version": 3
   },
   "file_extension": ".py",
   "mimetype": "text/x-python",
   "name": "python",
   "nbconvert_exporter": "python",
   "pygments_lexer": "ipython3",
   "version": "3.10.9"
  }
 },
 "nbformat": 4,
 "nbformat_minor": 5
}
